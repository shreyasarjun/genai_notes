{
 "cells": [
  {
   "cell_type": "code",
   "execution_count": 1,
   "metadata": {},
   "outputs": [],
   "source": [
    "# Step1: Data loading\n",
    "from langchain_community.document_loaders import PyPDFLoader\n",
    "loader=PyPDFLoader(r\"C:\\Users\\ShreyasBilikereShant\\Downloads\\Bhagat_Singh.pdf\")\n",
    "docs=loader.load()"
   ]
  },
  {
   "cell_type": "code",
   "execution_count": 2,
   "metadata": {},
   "outputs": [],
   "source": [
    "# Step2: Data Splitting\n",
    "from langchain.text_splitter import RecursiveCharacterTextSplitter\n",
    "text_splitter=RecursiveCharacterTextSplitter(chunk_size=1000,chunk_overlap=200)\n",
    "splitted_docs=text_splitter.split_documents(docs)"
   ]
  },
  {
   "cell_type": "code",
   "execution_count": 3,
   "metadata": {},
   "outputs": [],
   "source": [
    "# Step3: Converting text to vectors and store in vectorDB\n",
    "from langchain_openai import OpenAIEmbeddings\n",
    "from langchain_community.vectorstores import Chroma\n",
    "db = Chroma.from_documents(splitted_docs,OpenAIEmbeddings())"
   ]
  },
  {
   "cell_type": "code",
   "execution_count": 7,
   "metadata": {},
   "outputs": [
    {
     "name": "stdout",
     "output_type": "stream",
     "text": [
      "43\n",
      "Orissa Review                      August - 2007\n",
      "part of the Ghadar party led by Kartar Singh\n",
      "Sarabha. Bhagat Singh was born in Lahore and it\n",
      "was in the city that the British launched the first\n",
      "Lahore conspiracy case in 1915, sentencing more\n",
      "than two dozen youths to death and hundreds of\n",
      "others to life imprisonment and other harsh jail\n",
      "sentences. Though the govt was able to crush the\n",
      "Ghadar Party revolutionaries through such brutal\n",
      "repression, their saga left an indelible impression\n",
      "on the minds of later generations of Indians. Those\n",
      "who went to the gallows in this case included\n",
      "Kartar Singh Sarabha, a youth of merely 16 years,\n",
      "whose image got etched in Bhagat Singh's psyche.\n",
      "As for revolutionaries who were seriously\n",
      "disillusioned after the withdrawal of the Non-\n",
      "cooperation movement, then began to regroup\n",
      "all over north India. Sachindranath Sanyal formed\n",
      "the Hindustan Republican Association in 1924.\n",
      "Bhagat Singh and his friend in Lahore joined it.\n"
     ]
    }
   ],
   "source": [
    "# Step4: querying vector DB\n",
    "query = \"When Bhagat singh born and where ?\"\n",
    "retireved_results=db.similarity_search(query)\n",
    "print(retireved_results[0].page_content)"
   ]
  },
  {
   "cell_type": "code",
   "execution_count": null,
   "metadata": {},
   "outputs": [
    {
     "name": "stdout",
     "output_type": "stream",
     "text": [
      "Checking for uncommitted changes...\n",
      "No uncommitted changes found.\n",
      "Checking for unpushed commits...\n",
      "No unpushed commits found.\n",
      "No unpushed commits. Exiting...\n"
     ]
    }
   ],
   "source": []
  },
  {
   "cell_type": "code",
   "execution_count": 8,
   "metadata": {},
   "outputs": [
    {
     "name": "stderr",
     "output_type": "stream",
     "text": [
      "Python-dotenv could not parse statement starting at line 33\n",
      "Python-dotenv could not parse statement starting at line 34\n",
      "Python-dotenv could not parse statement starting at line 40\n",
      "Python-dotenv could not parse statement starting at line 41\n",
      "Python-dotenv could not parse statement starting at line 42\n",
      "Python-dotenv could not parse statement starting at line 43\n",
      "Python-dotenv could not parse statement starting at line 44\n",
      "Python-dotenv could not parse statement starting at line 45\n",
      "Python-dotenv could not parse statement starting at line 49\n",
      "Python-dotenv could not parse statement starting at line 50\n",
      "Python-dotenv could not parse statement starting at line 51\n",
      "Python-dotenv could not parse statement starting at line 53\n",
      "Python-dotenv could not parse statement starting at line 56\n",
      "Python-dotenv could not parse statement starting at line 57\n",
      "Python-dotenv could not parse statement starting at line 58\n",
      "Python-dotenv could not parse statement starting at line 59\n",
      "Python-dotenv could not parse statement starting at line 60\n",
      "Python-dotenv could not parse statement starting at line 61\n",
      "Python-dotenv could not parse statement starting at line 62\n",
      "Python-dotenv could not parse statement starting at line 63\n",
      "Python-dotenv could not parse statement starting at line 64\n",
      "Python-dotenv could not parse statement starting at line 65\n",
      "Python-dotenv could not parse statement starting at line 66\n",
      "Python-dotenv could not parse statement starting at line 67\n",
      "Python-dotenv could not parse statement starting at line 72\n",
      "Python-dotenv could not parse statement starting at line 73\n",
      "Python-dotenv could not parse statement starting at line 74\n",
      "Python-dotenv could not parse statement starting at line 75\n",
      "Python-dotenv could not parse statement starting at line 76\n",
      "Python-dotenv could not parse statement starting at line 77\n",
      "Python-dotenv could not parse statement starting at line 78\n",
      "Python-dotenv could not parse statement starting at line 79\n"
     ]
    },
    {
     "name": "stdout",
     "output_type": "stream",
     "text": [
      "<class 'str'>\n",
      "[\"kalyan.y@ctrls.in\",\"ramireddy.k@ctrls.in\",\"adithya.vanam@ctrls.in\",\"vijayendra.wagh@ctrls.in\",\n"
     ]
    }
   ],
   "source": [
    "from dotenv import load_dotenv\n",
    "import os\n",
    "load_dotenv(r\"C:\\Users\\ShreyasBilikereShant\\Downloads\\.env\")\n",
    "temp = os.getenv(\"ctrls_pms\")\n",
    "print(type(temp))\n",
    "print(temp)"
   ]
  },
  {
   "cell_type": "code",
   "execution_count": 3,
   "metadata": {},
   "outputs": [
    {
     "name": "stdout",
     "output_type": "stream",
     "text": [
      "PDF Created Successfully\n"
     ]
    }
   ],
   "source": [
    "from fpdf import FPDF\n",
    "\n",
    "# Create PDF object\n",
    "pdf = FPDF()\n",
    "pdf.set_auto_page_break(auto=True, margin=15)\n",
    "pdf.add_page()\n",
    "\n",
    "# Set title\n",
    "pdf.set_font(\"Arial\", size=16)\n",
    "pdf.cell(200, 10, txt=\"Tourist Places in Karnataka\", ln=True, align=\"C\")\n",
    "\n",
    "# Add content\n",
    "pdf.ln(10)\n",
    "pdf.set_font(\"Arial\", size=12)\n",
    "\n",
    "content = \"\"\"\n",
    "1. Introduction to Karnataka\n",
    "   Karnataka, located in the southern part of India, is a state with rich cultural heritage, diverse landscapes, and historical significance. From beautiful beaches to ancient temples, Karnataka offers a variety of experiences for tourists.\n",
    "\n",
    "2. Top Tourist Destinations in Karnataka\n",
    "   - Bengaluru (Bangalore): Known for its parks, shopping, and nightlife.\n",
    "   - Mysuru (Mysore): Famous for Mysore Palace, Chamundi Hill, and the Dussehra festival.\n",
    "   - Coorg: Known for its coffee plantations, scenic beauty, and waterfalls like Abbey Falls.\n",
    "   - Hampi: A UNESCO World Heritage site with ancient temples and ruins of the Vijayanagara Empire.\n",
    "   - Badami: Famous for rock-cut temples and its historical significance in the Chalukya dynasty.\n",
    "   - Gokarna: A peaceful coastal town with beautiful beaches.\n",
    "   - Chikmagalur: Known for coffee estates and scenic landscapes.\n",
    "   - Kabini: A wildlife sanctuary offering safari experiences.\n",
    "\n",
    "3. Wildlife and Nature\n",
    "   - Kabini Wildlife Sanctuary\n",
    "   - Bandipur National Park\n",
    "   - Nagarhole National Park\n",
    "   - Sakrebailu Elephant Camp\n",
    "\n",
    "4. Adventure Tourism in Karnataka\n",
    "   - Trekking in Coorg, Chikmagalur, and Agumbe.\n",
    "   - Water sports in Gokarna, Karwar, and Malpe Beach.\n",
    "   - River rafting in Coorg and Dandeli.\n",
    "\n",
    "5. Cultural and Historical Sites\n",
    "   - Chitradurga Fort\n",
    "   - Pattadakal\n",
    "   - Bijapur (Vijayapura)\n",
    "\n",
    "6. Festivals and Events\n",
    "   - Mysore Dasara\n",
    "   - Karaga Festival\n",
    "   - Coorg Festivals\n",
    "\n",
    "7. Conclusion\n",
    "   Karnataka offers a wide range of experiences from cultural heritage, scenic landscapes, historical landmarks, and adventure activities, making it a must-visit destination in India.\n",
    "\"\"\"\n",
    "\n",
    "# Add the content to PDF\n",
    "pdf.multi_cell(0, 10, content)\n",
    "\n",
    "# Save the PDF to file\n",
    "pdf.output(\"Karnataka_Tourism_Places.pdf\")\n",
    "\n",
    "print(\"PDF Created Successfully\")\n"
   ]
  },
  {
   "cell_type": "code",
   "execution_count": 2,
   "metadata": {},
   "outputs": [
    {
     "name": "stdout",
     "output_type": "stream",
     "text": [
      "Collecting fpdf\n",
      "  Using cached fpdf-1.7.2-py2.py3-none-any.whl\n",
      "Installing collected packages: fpdf\n",
      "Successfully installed fpdf-1.7.2\n"
     ]
    }
   ],
   "source": [
    "!pip install fpdf"
   ]
  },
  {
   "cell_type": "code",
   "execution_count": null,
   "metadata": {},
   "outputs": [],
   "source": []
  }
 ],
 "metadata": {
  "kernelspec": {
   "display_name": "llm_learning",
   "language": "python",
   "name": "python3"
  },
  "language_info": {
   "codemirror_mode": {
    "name": "ipython",
    "version": 3
   },
   "file_extension": ".py",
   "mimetype": "text/x-python",
   "name": "python",
   "nbconvert_exporter": "python",
   "pygments_lexer": "ipython3",
   "version": "3.11.10"
  }
 },
 "nbformat": 4,
 "nbformat_minor": 2
}
