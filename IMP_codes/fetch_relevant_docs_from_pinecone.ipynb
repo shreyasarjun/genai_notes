{
 "cells": [
  {
   "cell_type": "code",
   "execution_count": 15,
   "metadata": {},
   "outputs": [],
   "source": [
    "# Import necessary libraries\n",
    "\n",
    "import openai"
   ]
  },
  {
   "cell_type": "code",
   "execution_count": 16,
   "metadata": {},
   "outputs": [],
   "source": []
  },
  {
   "cell_type": "code",
   "execution_count": 17,
   "metadata": {},
   "outputs": [
    {
     "name": "stdout",
     "output_type": "stream",
     "text": [
      "Index created successfully.\n"
     ]
    }
   ],
   "source": [
    "import os\n",
    "from pinecone import Pinecone, ServerlessSpec\n",
    "\n",
    "# Initialize Pinecone with API key\n",
    "pc = Pinecone(\n",
    "    api_key=\"pcsk_4U4srV_K3R6NSeBufDQUGDPN8U6P5vRQVtbdPuyPE8yDbw5KXmXmYqQC8RkeEUG7wVDbJN\"  # Replace with your actual Pinecone API key\n",
    ")\n",
    "\n",
    "# Check if the index already exists\n",
    "if \"experiments\" not in pc.list_indexes().names():\n",
    "    # Create the index if it doesn't exist\n",
    "    pc.create_index(\n",
    "        name=\"experiments\",\n",
    "        dimension=1536,\n",
    "        metric=\"cosine\",  # Similarity metric: \"cosine\", \"dotproduct\", or \"euclidean\"\n",
    "        spec=ServerlessSpec(\n",
    "            cloud=\"aws\",  # Choose cloud provider (\"aws\" or \"gcp\")\n",
    "            region=\"us-east-1\"  # Replace with your environment region\n",
    "        )\n",
    "    )\n",
    "\n",
    "print(\"Index created successfully.\")\n"
   ]
  },
  {
   "cell_type": "code",
   "execution_count": 18,
   "metadata": {},
   "outputs": [],
   "source": [
    "index=pc.Index(\"experiments\")"
   ]
  },
  {
   "cell_type": "code",
   "execution_count": 19,
   "metadata": {},
   "outputs": [],
   "source": [
    "# Function to generate embeddings using OpenAI\n",
    "from langchain.embeddings import OpenAIEmbeddings\n",
    "def generate_embedding(text):\n",
    "    embeddings  =  OpenAIEmbeddings(openai_api_key=openai_api_key,model=\"text-embedding-ada-002\")\n",
    "    embedding_response = embeddings.embed_query(text)\n",
    "    return embedding_response"
   ]
  },
  {
   "cell_type": "code",
   "execution_count": 20,
   "metadata": {},
   "outputs": [],
   "source": [
    "# Define schema metadata from your input data\n",
    "schemas = [\n",
    "    {\n",
    "        \"table\": \"customers\",\n",
    "        \"description\": \"Stores customer information\",\n",
    "        \"columns\": [\n",
    "            \"customerNumber\", \"customerName\", \"contactLastName\", \"contactFirstName\",\n",
    "            \"phone\", \"addressLine1\", \"addressLine2\", \"city\", \"state\", \"postalCode\",\n",
    "            \"country\", \"salesRepEmployeeNumber\", \"creditLimit\"\n",
    "        ],\n",
    "        \"primary_key\": [\"customerNumber\"],\n",
    "        \"foreign_keys\": {\"salesRepEmployeeNumber\": \"employees.employeeNumber\"}\n",
    "    },\n",
    "    {\n",
    "        \"table\": \"employees\",\n",
    "        \"description\": \"Stores employee information\",\n",
    "        \"columns\": [\n",
    "            \"employeeNumber\", \"lastName\", \"firstName\", \"extension\", \"email\",\n",
    "            \"officeCode\", \"reportsTo\", \"jobTitle\"\n",
    "        ],\n",
    "        \"primary_key\": [\"employeeNumber\"],\n",
    "        \"foreign_keys\": {\"reportsTo\": \"employees.employeeNumber\"}\n",
    "    },\n",
    "    {\n",
    "        \"table\": \"offices\",\n",
    "        \"description\": \"Stores office location information\",\n",
    "        \"columns\": [\n",
    "            \"officeCode\", \"city\", \"phone\", \"addressLine1\", \"addressLine2\",\n",
    "            \"state\", \"country\", \"postalCode\", \"territory\"\n",
    "        ],\n",
    "        \"primary_key\": [\"officeCode\"],\n",
    "        \"foreign_keys\": {}\n",
    "    },\n",
    "    # Add remaining tables here...\n",
    "]"
   ]
  },
  {
   "cell_type": "code",
   "execution_count": 21,
   "metadata": {},
   "outputs": [],
   "source": [
    "import json\n",
    "\n",
    "# Store schema metadata and embeddings in Pinecone\n",
    "for schema in schemas:\n",
    "    # Convert complex fields like `foreign_keys` to strings\n",
    "    foreign_keys = schema[\"foreign_keys\"]\n",
    "    if not isinstance(foreign_keys, (str, list)):\n",
    "        # Convert dictionary or complex object to JSON string\n",
    "        foreign_keys = json.dumps(foreign_keys)\n",
    "\n",
    "    metadata = {\n",
    "        \"table\": schema[\"table\"],\n",
    "        \"description\": schema[\"description\"],\n",
    "        \"columns\": schema[\"columns\"],\n",
    "        \"primary_key\": schema[\"primary_key\"],\n",
    "        \"foreign_keys\": foreign_keys,  # Ensure this is now a string or valid type\n",
    "    }\n",
    "    embedding = generate_embedding(schema[\"description\"])\n",
    "    index.upsert([(schema[\"table\"], embedding, metadata)])\n"
   ]
  },
  {
   "cell_type": "code",
   "execution_count": 22,
   "metadata": {},
   "outputs": [],
   "source": [
    "def query_relevant_documents(user_query: str, index, top_k: int = 5):\n",
    "    \"\"\"\n",
    "    Query Pinecone to retrieve relevant documents for a user's query.\n",
    "\n",
    "    Args:\n",
    "        user_query (str): The user's query.\n",
    "        index: The Pinecone index object.\n",
    "        top_k (int): Number of top relevant documents to retrieve.\n",
    "\n",
    "    Returns:\n",
    "        list: A list of relevant documents with metadata and scores.\n",
    "    \"\"\"\n",
    "    try:\n",
    "        # Generate embedding for the user query\n",
    "        query_embedding = generate_embedding(user_query)\n",
    "\n",
    "        # Query Pinecone index\n",
    "        results = index.query(\n",
    "            vector=query_embedding,\n",
    "            top_k=top_k,\n",
    "            include_metadata=True  # Retrieve associated metadata\n",
    "        )\n",
    "\n",
    "        # Process and return results\n",
    "        relevant_docs = []\n",
    "        for match in results.matches:\n",
    "            relevant_docs.append({\n",
    "                \"id\": match.id,\n",
    "                \"score\": match.score,\n",
    "                \"metadata\": match.metadata\n",
    "            })\n",
    "\n",
    "        return relevant_docs\n",
    "\n",
    "    except Exception as e:\n",
    "        print(f\"An error occurred while querying: {e}\")\n",
    "        return []\n"
   ]
  },
  {
   "cell_type": "code",
   "execution_count": 23,
   "metadata": {},
   "outputs": [
    {
     "name": "stdout",
     "output_type": "stream",
     "text": [
      "ID: customers, Score: 0.877237499, Metadata: {'columns': ['customerNumber', 'customerName', 'contactLastName', 'contactFirstName', 'phone', 'addressLine1', 'addressLine2', 'city', 'state', 'postalCode', 'country', 'salesRepEmployeeNumber', 'creditLimit'], 'description': 'Stores customer information', 'foreign_keys': '{\"salesRepEmployeeNumber\": \"employees.employeeNumber\"}', 'primary_key': ['customerNumber'], 'table': 'customers'}\n",
      "ID: employees, Score: 0.826239645, Metadata: {'columns': ['employeeNumber', 'lastName', 'firstName', 'extension', 'email', 'officeCode', 'reportsTo', 'jobTitle'], 'description': 'Stores employee information', 'foreign_keys': '{\"reportsTo\": \"employees.employeeNumber\"}', 'primary_key': ['employeeNumber'], 'table': 'employees'}\n",
      "ID: offices, Score: 0.797356367, Metadata: {'columns': ['officeCode', 'city', 'phone', 'addressLine1', 'addressLine2', 'state', 'country', 'postalCode', 'territory'], 'description': 'Stores office location information', 'foreign_keys': '{}', 'primary_key': ['officeCode'], 'table': 'offices'}\n"
     ]
    }
   ],
   "source": [
    "# User query\n",
    "user_query = \"Retrieve information about orders and their associated customers.\"\n",
    "\n",
    "# Query Pinecone for relevant documents\n",
    "relevant_docs = query_relevant_documents(user_query, index)\n",
    "\n",
    "# Print results\n",
    "for doc in relevant_docs:\n",
    "    print(f\"ID: {doc['id']}, Score: {doc['score']}, Metadata: {doc['metadata']}\")\n"
   ]
  },
  {
   "cell_type": "code",
   "execution_count": null,
   "metadata": {},
   "outputs": [],
   "source": []
  }
 ],
 "metadata": {
  "kernelspec": {
   "display_name": "advanced_text_tosql",
   "language": "python",
   "name": "python3"
  },
  "language_info": {
   "codemirror_mode": {
    "name": "ipython",
    "version": 3
   },
   "file_extension": ".py",
   "mimetype": "text/x-python",
   "name": "python",
   "nbconvert_exporter": "python",
   "pygments_lexer": "ipython3",
   "version": "3.10.15"
  }
 },
 "nbformat": 4,
 "nbformat_minor": 2
}
